{
 "cells": [
  {
   "cell_type": "code",
   "execution_count": 2,
   "id": "64f0e547",
   "metadata": {},
   "outputs": [],
   "source": [
    "import numpy as np\n",
    "import pandas as pd\n",
    "import matplotlib.pyplot as plt\n",
    "%matplotlib inline\n",
    "\n",
    "import warnings\n",
    "warnings.filterwarnings('ignore')"
   ]
  },
  {
   "cell_type": "code",
   "execution_count": 3,
   "id": "fe8d32a4",
   "metadata": {},
   "outputs": [
    {
     "data": {
      "text/html": [
       "<div>\n",
       "<style scoped>\n",
       "    .dataframe tbody tr th:only-of-type {\n",
       "        vertical-align: middle;\n",
       "    }\n",
       "\n",
       "    .dataframe tbody tr th {\n",
       "        vertical-align: top;\n",
       "    }\n",
       "\n",
       "    .dataframe thead th {\n",
       "        text-align: right;\n",
       "    }\n",
       "</style>\n",
       "<table border=\"1\" class=\"dataframe\">\n",
       "  <thead>\n",
       "    <tr style=\"text-align: right;\">\n",
       "      <th></th>\n",
       "      <th>Month</th>\n",
       "      <th>Exchange Rate TWI</th>\n",
       "    </tr>\n",
       "  </thead>\n",
       "  <tbody>\n",
       "    <tr>\n",
       "      <th>0</th>\n",
       "      <td>1</td>\n",
       "      <td>100.0</td>\n",
       "    </tr>\n",
       "    <tr>\n",
       "      <th>1</th>\n",
       "      <td>2</td>\n",
       "      <td>99.6</td>\n",
       "    </tr>\n",
       "    <tr>\n",
       "      <th>2</th>\n",
       "      <td>3</td>\n",
       "      <td>99.4</td>\n",
       "    </tr>\n",
       "    <tr>\n",
       "      <th>3</th>\n",
       "      <td>4</td>\n",
       "      <td>99.1</td>\n",
       "    </tr>\n",
       "    <tr>\n",
       "      <th>4</th>\n",
       "      <td>5</td>\n",
       "      <td>99.2</td>\n",
       "    </tr>\n",
       "  </tbody>\n",
       "</table>\n",
       "</div>"
      ],
      "text/plain": [
       "   Month  Exchange Rate TWI\n",
       "0      1              100.0\n",
       "1      2               99.6\n",
       "2      3               99.4\n",
       "3      4               99.1\n",
       "4      5               99.2"
      ]
     },
     "execution_count": 3,
     "metadata": {},
     "output_type": "execute_result"
    }
   ],
   "source": [
    "data=pd.read_csv(\"exchange-rate-twi.csv\")\n",
    "data.head()"
   ]
  },
  {
   "cell_type": "code",
   "execution_count": 4,
   "id": "cdf809b4",
   "metadata": {},
   "outputs": [
    {
     "name": "stdout",
     "output_type": "stream",
     "text": [
      "<class 'pandas.core.frame.DataFrame'>\n",
      "RangeIndex: 304 entries, 0 to 303\n",
      "Data columns (total 2 columns):\n",
      " #   Column             Non-Null Count  Dtype  \n",
      "---  ------             --------------  -----  \n",
      " 0   Month              304 non-null    int64  \n",
      " 1   Exchange Rate TWI  304 non-null    float64\n",
      "dtypes: float64(1), int64(1)\n",
      "memory usage: 4.9 KB\n"
     ]
    }
   ],
   "source": [
    "data.info()"
   ]
  },
  {
   "cell_type": "code",
   "execution_count": 8,
   "id": "5b63ff04",
   "metadata": {},
   "outputs": [
    {
     "data": {
      "text/plain": [
       "(304, 2)"
      ]
     },
     "execution_count": 8,
     "metadata": {},
     "output_type": "execute_result"
    }
   ],
   "source": [
    "data.shape"
   ]
  },
  {
   "cell_type": "code",
   "execution_count": 10,
   "id": "0457a2a9",
   "metadata": {},
   "outputs": [
    {
     "data": {
      "text/plain": [
       "Month                0.0\n",
       "Exchange Rate TWI    0.0\n",
       "dtype: float64"
      ]
     },
     "execution_count": 10,
     "metadata": {},
     "output_type": "execute_result"
    }
   ],
   "source": [
    "data.isnull().sum()/data.shape[0]"
   ]
  },
  {
   "cell_type": "markdown",
   "id": "865c1e18",
   "metadata": {},
   "source": [
    "# Auto Regressive methods"
   ]
  },
  {
   "cell_type": "markdown",
   "id": "e651c39f",
   "metadata": {},
   "source": [
    "## Stationarity vs non-stationary time series"
   ]
  },
  {
   "cell_type": "code",
   "execution_count": 11,
   "id": "ca9ca699",
   "metadata": {},
   "outputs": [
    {
     "data": {
      "image/png": "[encoded data removed]",
      "text/plain": [
       "<Figure size 864x288 with 1 Axes>"
      ]
     },
     "metadata": {
      "needs_background": "light"
     },
     "output_type": "display_data"
    }
   ],
   "source": [
    "data['Exchange Rate TWI'].plot(figsize=(12, 4))\n",
    "plt.legend(loc='best')\n",
    "plt.title('Stationary')\n",
    "plt.show(block=False)"
   ]
  },
  {
   "cell_type": "markdown",
   "id": "7f4bfe3e",
   "metadata": {},
   "source": [
    "### Augmented Dickey-Fuller (ADF) test"
   ]
  },
  {
   "cell_type": "code",
   "execution_count": 12,
   "id": "552b543c",
   "metadata": {},
   "outputs": [
    {
     "name": "stdout",
     "output_type": "stream",
     "text": [
      "ADF Statistic: -0.805468\n",
      "Critical Values @ 0.05: -2.87\n",
      "p-value: 0.817511\n"
     ]
    }
   ],
   "source": [
    "from statsmodels.tsa.stattools import adfuller\n",
    "adf_test = adfuller(data['Exchange Rate TWI'])\n",
    "\n",
    "print('ADF Statistic: %f' % adf_test[0])\n",
    "print('Critical Values @ 0.05: %.2f' % adf_test[4]['5%'])\n",
    "print('p-value: %f' % adf_test[1])"
   ]
  },
  {
   "cell_type": "code",
   "execution_count": 13,
   "id": "46219618",
   "metadata": {},
   "outputs": [
    {
     "data": {
      "text/plain": [
       "(-0.8054678720541549,\n",
       " 0.8175106426685046,\n",
       " 0,\n",
       " 303,\n",
       " {'1%': -3.4521175397304784,\n",
       "  '5%': -2.8711265007266666,\n",
       "  '10%': -2.571877823851692},\n",
       " 1268.8696918056114)"
      ]
     },
     "execution_count": 13,
     "metadata": {},
     "output_type": "execute_result"
    }
   ],
   "source": [
    "adf_test"
   ]
  },
  {
   "cell_type": "markdown",
   "id": "1ba3b4fc",
   "metadata": {},
   "source": [
    "### Kwiatkowski-Phillips-Schmidt-Shin (KPSS) test"
   ]
  },
  {
   "cell_type": "code",
   "execution_count": 15,
   "id": "5198b02f",
   "metadata": {},
   "outputs": [
    {
     "name": "stdout",
     "output_type": "stream",
     "text": [
      "KPSS Statistic: 1.725897\n",
      "Critical Values @ 0.05: 0.46\n",
      "p-value: 0.010000\n"
     ]
    },
    {
     "name": "stderr",
     "output_type": "stream",
     "text": [
      "c:\\users\\risha\\appdata\\local\\programs\\python\\python39\\lib\\site-packages\\statsmodels\\tsa\\stattools.py:1906: InterpolationWarning: The test statistic is outside of the range of p-values available in the\n",
      "look-up table. The actual p-value is smaller than the p-value returned.\n",
      "\n",
      "  warnings.warn(\n"
     ]
    }
   ],
   "source": [
    "from statsmodels.tsa.stattools import kpss\n",
    "kpss_test = kpss(data['Exchange Rate TWI'])\n",
    "\n",
    "print('KPSS Statistic: %f' % kpss_test[0])\n",
    "print('Critical Values @ 0.05: %.2f' % kpss_test[3]['5%'])\n",
    "print('p-value: %f' % kpss_test[1])"
   ]
  },
  {
   "cell_type": "code",
   "execution_count": null,
   "id": "d811d2f0",
   "metadata": {},
   "outputs": [],
   "source": []
  }
 ],
 "metadata": {
  "kernelspec": {
   "display_name": "Python 3 (ipykernel)",
   "language": "python",
   "name": "python3"
  },
  "language_info": {
   "codemirror_mode": {
    "name": "ipython",
    "version": 3
   },
   "file_extension": ".py",
   "mimetype": "text/x-python",
   "name": "python",
   "nbconvert_exporter": "python",
   "pygments_lexer": "ipython3",
   "version": "3.9.6"
  }
 },
 "nbformat": 4,
 "nbformat_minor": 5
}
